{
 "cells": [
  {
   "cell_type": "code",
   "execution_count": 1,
   "metadata": {},
   "outputs": [],
   "source": [
    "import warnings\n",
    "warnings.filterwarnings('ignore')\n",
    "\n",
    "import matplotlib.pyplot as plt\n",
    "import numpy as np\n",
    "import pandas as pd\n",
    "import json\n",
    "import os\n",
    "import feather\n",
    "from fastai.text import *\n",
    "\n",
    "from petfinder.data import *\n",
    "\n",
    "%matplotlib inline\n",
    "%load_ext autoreload\n",
    "%autoreload 2"
   ]
  },
  {
   "cell_type": "code",
   "execution_count": 2,
   "metadata": {},
   "outputs": [],
   "source": [
    "path = 'C:\\\\work\\\\ML\\\\PetFinder\\\\'\n",
    "bs=64\n",
    "\n",
    "pets = get_data(isTest=False)\n",
    "petsTest = get_data(isTest=True)\n",
    "\n",
    "petsTest['AdoptionSpeed'] = 0"
   ]
  },
  {
   "cell_type": "markdown",
   "metadata": {},
   "source": [
    "# Language Model\n",
    "\n",
    "First let's handle our language model.  In fast.ai, you can use a pre-trained language model called ULMFit trained on all the text of wikipedia on trying to predict the next word in a sentence.  In our case we don't want to predict the next word in a sentence, but we want to use what this language model learned to help us with our task of predicting how fast a pet is going to get adopted.\n",
    "\n",
    "In fast.ai, you can fine-tune a pre-trained model on your own corpora of text to make it better at handling your own domain.  In our case, descriptions of pets.\n",
    "\n",
    "We are going to use the description from both the training and test set to fine tune this pre-trained model to give us as much text as possible to fine tune it."
   ]
  },
  {
   "cell_type": "code",
   "execution_count": 3,
   "metadata": {},
   "outputs": [],
   "source": [
    "petsAll = pd.concat([pets, petsTest])\n",
    "petsAll = petsAll.dropna(subset=['Description'])\n",
    "\n",
    "descriptions = petsAll.groupby(['PetID', 'Description']).size().to_frame().reset_index().set_index('PetID')"
   ]
  },
  {
   "cell_type": "markdown",
   "metadata": {},
   "source": [
    "Then let's prepare a DataBunch for those description.  Basically in the background fastai is tokenizing this text and numericalize it to make it usesable by the neural network.  This DataBunch is also going to be used to know our vocabulary (what word does this language model know) later on when we are going to use it in our network."
   ]
  },
  {
   "cell_type": "code",
   "execution_count": 4,
   "metadata": {},
   "outputs": [],
   "source": [
    "data_lm = (TextList.from_df(descriptions, cols='Description').split_by_rand_pct(0.1).label_for_lm().databunch(bs=bs, path=path))\n",
    "data_lm.save('data_lm_descriptions.pkl')"
   ]
  },
  {
   "cell_type": "code",
   "execution_count": 5,
   "metadata": {},
   "outputs": [],
   "source": [
    "data_lm = load_data(path, 'data_lm_descriptions.pkl', bs=bs)"
   ]
  },
  {
   "cell_type": "code",
   "execution_count": 6,
   "metadata": {},
   "outputs": [
    {
     "data": {
      "text/html": [
       "<table border=\"1\" class=\"dataframe\">\n",
       "  <thead>\n",
       "    <tr style=\"text-align: right;\">\n",
       "      <th>idx</th>\n",
       "      <th>text</th>\n",
       "    </tr>\n",
       "  </thead>\n",
       "  <tbody>\n",
       "    <tr>\n",
       "      <td>0</td>\n",
       "      <td>beach .. xxmaj adopters must vaccinate , spay and keep puppy indoors / fenced xxmaj call / whatsapp : xxmaj address : teluk xxunk xxbos xxmaj cherry was a stray dog we rescued from the streets . xxmaj she behaves like a total house pet , who would believe she used to stray for a year plus ! xxmaj cherry loves to be indoor , loves to be near human</td>\n",
       "    </tr>\n",
       "    <tr>\n",
       "      <td>1</td>\n",
       "      <td>fine ) . xxmaj the owner is xxmaj korean lady , a mother of 2 babies - 18 months and 6 months and she 's pregnant again so planning to go back to xxmaj korea . xxmaj please contact if you are interested . xxbos xxmaj she is very friendly and cute . xxmaj because i want to move , the new apartment can not raise a cat , no</td>\n",
       "    </tr>\n",
       "    <tr>\n",
       "      <td>2</td>\n",
       "      <td>was rescued . i have no heart to put him back on the street after neuturing . xxmaj he will not be able to survive . i knw for a fact , he has an owner before he was abandoned . xxmaj will you be able to give xxmaj luke a forever home .. let him feel the love he used to have ? xxmaj give me a call at</td>\n",
       "    </tr>\n",
       "    <tr>\n",
       "      <td>3</td>\n",
       "      <td>including xxmaj xxunk xxup xxunk have to direct part order from xxmaj xxunk and waited for 3 weeks long to reached xxmaj malaysia . xxmaj ha ! xxmaj ha ! xxmaj ha ! xxup what a xxup good xxup laugh xxbos xxmaj happy yappy 4 month old puppies were dumped at the pet clinic mercilessly . 4 months later , these 4 puppies have grown to be the lovable xxmaj</td>\n",
       "    </tr>\n",
       "    <tr>\n",
       "      <td>4</td>\n",
       "      <td>facilitate the adopter to be entitled for the starter pack , cos posting in a group only entitles one adopter . xxbos xxmaj nak bagi pet ni sebab dah banyak sgt . lagipun mase x cukup nak jaga .. my pet betul2 tak terurus sekarang ... call . i tinggal area segambut , kl . xxup telah xxup selamat xxup di xxup rumah xxup baru xxrep 4 . xxbos xxmaj</td>\n",
       "    </tr>\n",
       "  </tbody>\n",
       "</table>"
      ],
      "text/plain": [
       "<IPython.core.display.HTML object>"
      ]
     },
     "metadata": {},
     "output_type": "display_data"
    }
   ],
   "source": [
    "data_lm.show_batch()"
   ]
  },
  {
   "cell_type": "markdown",
   "metadata": {},
   "source": [
    "## Language model fine-tuning"
   ]
  },
  {
   "cell_type": "code",
   "execution_count": 7,
   "metadata": {},
   "outputs": [],
   "source": [
    "learn = language_model_learner(data_lm, AWD_LSTM, drop_mult=0.3)"
   ]
  },
  {
   "cell_type": "code",
   "execution_count": 8,
   "metadata": {},
   "outputs": [
    {
     "data": {
      "text/html": [],
      "text/plain": [
       "<IPython.core.display.HTML object>"
      ]
     },
     "metadata": {},
     "output_type": "display_data"
    },
    {
     "name": "stdout",
     "output_type": "stream",
     "text": [
      "LR Finder is complete, type {learner_name}.recorder.plot() to see the graph.\n"
     ]
    },
    {
     "data": {
      "image/png": "[encoded data removed]",
      "text/plain": [
       "<Figure size 432x288 with 1 Axes>"
      ]
     },
     "metadata": {
      "needs_background": "light"
     },
     "output_type": "display_data"
    }
   ],
   "source": [
    "learn.lr_find()\n",
    "learn.recorder.plot(skip_end=15)"
   ]
  },
  {
   "cell_type": "code",
   "execution_count": 9,
   "metadata": {},
   "outputs": [],
   "source": [
    "lr = 5e-2"
   ]
  },
  {
   "cell_type": "code",
   "execution_count": 10,
   "metadata": {},
   "outputs": [
    {
     "data": {
      "text/html": [
       "Total time: 00:44 <p><table border=\"1\" class=\"dataframe\">\n",
       "  <thead>\n",
       "    <tr style=\"text-align: left;\">\n",
       "      <th>epoch</th>\n",
       "      <th>train_loss</th>\n",
       "      <th>valid_loss</th>\n",
       "      <th>accuracy</th>\n",
       "      <th>time</th>\n",
       "    </tr>\n",
       "  </thead>\n",
       "  <tbody>\n",
       "    <tr>\n",
       "      <td>0</td>\n",
       "      <td>3.726701</td>\n",
       "      <td>3.443351</td>\n",
       "      <td>0.347794</td>\n",
       "      <td>00:44</td>\n",
       "    </tr>\n",
       "  </tbody>\n",
       "</table>"
      ],
      "text/plain": [
       "<IPython.core.display.HTML object>"
      ]
     },
     "metadata": {},
     "output_type": "display_data"
    }
   ],
   "source": [
    "learn.fit_one_cycle(1, lr, moms=(.8, .7))"
   ]
  },
  {
   "cell_type": "code",
   "execution_count": 11,
   "metadata": {},
   "outputs": [
    {
     "data": {
      "text/plain": [
       "LanguageLearner(data=TextLMDataBunch;\n",
       "\n",
       "Train: LabelList (17069 items)\n",
       "x: LMTextList\n",
       "xxbos xxmaj xxunk was rescued from the construction site behind my house . xxmaj he is quite the manja type and loves to play . xxmaj he makes a good companion and playmate for young children . xxmaj he is quite the handsome chap with a distinct mark on his face like a beauty mark .,xxbos went to teluk xxunk xxunk restaurant saw this female puppies alone by the beach .. xxmaj adopters must vaccinate , spay and keep puppy indoors / fenced xxmaj call / whatsapp : xxmaj address : teluk xxunk,xxbos xxmaj cherry was a stray dog we rescued from the streets . xxmaj she behaves like a total house pet , who would believe she used to stray for a year plus ! xxmaj cherry loves to be indoor , loves to be near human , loves human touches , loves other dogs . xxmaj we are looking for a forever home that could continue letting xxmaj cherry do all that she loves . xxmaj we want to find xxmaj cherry a home which will treat her as a house pet and stays indoor . xxmaj do n't be mistaken , xxmaj cherry is very alert at strangers and noises at the gate , but being a watch dog should not be her full time ' job ' . xxmaj if you love a dog who loves to manja , pls call us . xxmaj home visits will be arranged with potential adopter , and adopter to reimburse spaying n vaccination costs . xxup tq . :),xxbos xxmaj this puppy rescued from xxup dbkl pound last wednesday , and been sent to vet for check out . xxmaj pls give this lovely puppy a loving home if you can .,xxbos xxmaj he is cute and fun to be with .\n",
       "y: LMLabelList\n",
       ",,,,\n",
       "Path: .;\n",
       "\n",
       "Valid: LabelList (1896 items)\n",
       "x: LMTextList\n",
       "xxbos xxmaj healthy puppy for adoption . xxmaj commitment to spay is compulsory . xxmaj interested to adopt pls contact xxmaj amy,xxbos a healthy , clean , sweet little girl in xxmaj xxunk . send me message if you can give her a nice home .,xxbos xxmaj looking for a xxup serious adopter for xxmaj omey . xxmaj the adoption fee only for xxunk and will be return back . xxmaj feel free to whatapps me . * xxmaj she is mixed siamese and xxmaj domestic xxmaj short xxmaj hair * xxmaj diet - xxmaj canned xxmaj food xxmaj mackerel xxmaj fussie xxmaj cat + kibbles xxmaj blackwood ( xxmaj chicken and xxmaj corn ) * xxmaj she is litter trained , but you may need to train her in the new home . * xxmaj for adopter who never have cat , i will guide you thoroughly and xxunk kibbles will be given for free .,xxbos xxmaj kitten to let go for serious adopter . xxmaj playful & xxmaj healthy . xxmaj diet : xxmaj royal xxmaj canin 32 . 1st vaccinated completed , new owner have to follow up with 2nd & 3rd vaccination for xxmaj fila . xxmaj she is litter train . xxmaj looking for experienced and serious adopter only . xxmaj price are completed with 1st vaccine , deworm , and anti - flea vaccine .,xxbos xxmaj labrador cross , huge in size at the age of 3 months , chest with a star symbol , very unique .\n",
       "y: LMLabelList\n",
       ",,,,\n",
       "Path: .;\n",
       "\n",
       "Test: None, model=SequentialRNN(\n",
       "  (0): AWD_LSTM(\n",
       "    (encoder): Embedding(9853, 400, padding_idx=1)\n",
       "    (encoder_dp): EmbeddingDropout(\n",
       "      (emb): Embedding(9853, 400, padding_idx=1)\n",
       "    )\n",
       "    (rnns): ModuleList(\n",
       "      (0): WeightDropout(\n",
       "        (module): LSTM(400, 1150, batch_first=True)\n",
       "      )\n",
       "      (1): WeightDropout(\n",
       "        (module): LSTM(1150, 1150, batch_first=True)\n",
       "      )\n",
       "      (2): WeightDropout(\n",
       "        (module): LSTM(1150, 400, batch_first=True)\n",
       "      )\n",
       "    )\n",
       "    (input_dp): RNNDropout()\n",
       "    (hidden_dps): ModuleList(\n",
       "      (0): RNNDropout()\n",
       "      (1): RNNDropout()\n",
       "      (2): RNNDropout()\n",
       "    )\n",
       "  )\n",
       "  (1): LinearDecoder(\n",
       "    (decoder): Linear(in_features=400, out_features=9853, bias=True)\n",
       "    (output_dp): RNNDropout()\n",
       "  )\n",
       "), opt_func=functools.partial(<class 'torch.optim.adam.Adam'>, betas=(0.9, 0.99)), loss_func=FlattenedLoss of CrossEntropyLoss(), metrics=[<function accuracy at 0x000001EF4BA2E7B8>], true_wd=True, bn_wd=True, wd=0.01, train_bn=True, path=WindowsPath('C:/work/ML/PetFinder'), model_dir='models', callback_fns=[functools.partial(<class 'fastai.basic_train.Recorder'>, add_time=True, silent=False)], callbacks=[RNNTrainer\n",
       "learn: LanguageLearner(data=TextLMDataBunch;\n",
       "\n",
       "Train: LabelList (17069 items)\n",
       "x: LMTextList\n",
       "xxbos xxmaj xxunk was rescued from the construction site behind my house . xxmaj he is quite the manja type and loves to play . xxmaj he makes a good companion and playmate for young children . xxmaj he is quite the handsome chap with a distinct mark on his face like a beauty mark .,xxbos went to teluk xxunk xxunk restaurant saw this female puppies alone by the beach .. xxmaj adopters must vaccinate , spay and keep puppy indoors / fenced xxmaj call / whatsapp : xxmaj address : teluk xxunk,xxbos xxmaj cherry was a stray dog we rescued from the streets . xxmaj she behaves like a total house pet , who would believe she used to stray for a year plus ! xxmaj cherry loves to be indoor , loves to be near human , loves human touches , loves other dogs . xxmaj we are looking for a forever home that could continue letting xxmaj cherry do all that she loves . xxmaj we want to find xxmaj cherry a home which will treat her as a house pet and stays indoor . xxmaj do n't be mistaken , xxmaj cherry is very alert at strangers and noises at the gate , but being a watch dog should not be her full time ' job ' . xxmaj if you love a dog who loves to manja , pls call us . xxmaj home visits will be arranged with potential adopter , and adopter to reimburse spaying n vaccination costs . xxup tq . :),xxbos xxmaj this puppy rescued from xxup dbkl pound last wednesday , and been sent to vet for check out . xxmaj pls give this lovely puppy a loving home if you can .,xxbos xxmaj he is cute and fun to be with .\n",
       "y: LMLabelList\n",
       ",,,,\n",
       "Path: .;\n",
       "\n",
       "Valid: LabelList (1896 items)\n",
       "x: LMTextList\n",
       "xxbos xxmaj healthy puppy for adoption . xxmaj commitment to spay is compulsory . xxmaj interested to adopt pls contact xxmaj amy,xxbos a healthy , clean , sweet little girl in xxmaj xxunk . send me message if you can give her a nice home .,xxbos xxmaj looking for a xxup serious adopter for xxmaj omey . xxmaj the adoption fee only for xxunk and will be return back . xxmaj feel free to whatapps me . * xxmaj she is mixed siamese and xxmaj domestic xxmaj short xxmaj hair * xxmaj diet - xxmaj canned xxmaj food xxmaj mackerel xxmaj fussie xxmaj cat + kibbles xxmaj blackwood ( xxmaj chicken and xxmaj corn ) * xxmaj she is litter trained , but you may need to train her in the new home . * xxmaj for adopter who never have cat , i will guide you thoroughly and xxunk kibbles will be given for free .,xxbos xxmaj kitten to let go for serious adopter . xxmaj playful & xxmaj healthy . xxmaj diet : xxmaj royal xxmaj canin 32 . 1st vaccinated completed , new owner have to follow up with 2nd & 3rd vaccination for xxmaj fila . xxmaj she is litter train . xxmaj looking for experienced and serious adopter only . xxmaj price are completed with 1st vaccine , deworm , and anti - flea vaccine .,xxbos xxmaj labrador cross , huge in size at the age of 3 months , chest with a star symbol , very unique .\n",
       "y: LMLabelList\n",
       ",,,,\n",
       "Path: .;\n",
       "\n",
       "Test: None, model=SequentialRNN(\n",
       "  (0): AWD_LSTM(\n",
       "    (encoder): Embedding(9853, 400, padding_idx=1)\n",
       "    (encoder_dp): EmbeddingDropout(\n",
       "      (emb): Embedding(9853, 400, padding_idx=1)\n",
       "    )\n",
       "    (rnns): ModuleList(\n",
       "      (0): WeightDropout(\n",
       "        (module): LSTM(400, 1150, batch_first=True)\n",
       "      )\n",
       "      (1): WeightDropout(\n",
       "        (module): LSTM(1150, 1150, batch_first=True)\n",
       "      )\n",
       "      (2): WeightDropout(\n",
       "        (module): LSTM(1150, 400, batch_first=True)\n",
       "      )\n",
       "    )\n",
       "    (input_dp): RNNDropout()\n",
       "    (hidden_dps): ModuleList(\n",
       "      (0): RNNDropout()\n",
       "      (1): RNNDropout()\n",
       "      (2): RNNDropout()\n",
       "    )\n",
       "  )\n",
       "  (1): LinearDecoder(\n",
       "    (decoder): Linear(in_features=400, out_features=9853, bias=True)\n",
       "    (output_dp): RNNDropout()\n",
       "  )\n",
       "), opt_func=functools.partial(<class 'torch.optim.adam.Adam'>, betas=(0.9, 0.99)), loss_func=FlattenedLoss of CrossEntropyLoss(), metrics=[<function accuracy at 0x000001EF4BA2E7B8>], true_wd=True, bn_wd=True, wd=0.01, train_bn=True, path=WindowsPath('C:/work/ML/PetFinder'), model_dir='models', callback_fns=[functools.partial(<class 'fastai.basic_train.Recorder'>, add_time=True, silent=False)], callbacks=[...], layer_groups=[Sequential(\n",
       "  (0): WeightDropout(\n",
       "    (module): LSTM(400, 1150, batch_first=True)\n",
       "  )\n",
       "  (1): RNNDropout()\n",
       "), Sequential(\n",
       "  (0): WeightDropout(\n",
       "    (module): LSTM(1150, 1150, batch_first=True)\n",
       "  )\n",
       "  (1): RNNDropout()\n",
       "), Sequential(\n",
       "  (0): WeightDropout(\n",
       "    (module): LSTM(1150, 400, batch_first=True)\n",
       "  )\n",
       "  (1): RNNDropout()\n",
       "), Sequential(\n",
       "  (0): Embedding(9853, 400, padding_idx=1)\n",
       "  (1): EmbeddingDropout(\n",
       "    (emb): Embedding(9853, 400, padding_idx=1)\n",
       "  )\n",
       "  (2): LinearDecoder(\n",
       "    (decoder): Linear(in_features=400, out_features=9853, bias=True)\n",
       "    (output_dp): RNNDropout()\n",
       "  )\n",
       ")], add_time=True, silent=None)\n",
       "alpha: 2.0\n",
       "beta: 1.0], layer_groups=[Sequential(\n",
       "  (0): WeightDropout(\n",
       "    (module): LSTM(400, 1150, batch_first=True)\n",
       "  )\n",
       "  (1): RNNDropout()\n",
       "), Sequential(\n",
       "  (0): WeightDropout(\n",
       "    (module): LSTM(1150, 1150, batch_first=True)\n",
       "  )\n",
       "  (1): RNNDropout()\n",
       "), Sequential(\n",
       "  (0): WeightDropout(\n",
       "    (module): LSTM(1150, 400, batch_first=True)\n",
       "  )\n",
       "  (1): RNNDropout()\n",
       "), Sequential(\n",
       "  (0): Embedding(9853, 400, padding_idx=1)\n",
       "  (1): EmbeddingDropout(\n",
       "    (emb): Embedding(9853, 400, padding_idx=1)\n",
       "  )\n",
       "  (2): LinearDecoder(\n",
       "    (decoder): Linear(in_features=400, out_features=9853, bias=True)\n",
       "    (output_dp): RNNDropout()\n",
       "  )\n",
       ")], add_time=True, silent=None)"
      ]
     },
     "execution_count": 11,
     "metadata": {},
     "output_type": "execute_result"
    }
   ],
   "source": [
    "learn.save('fit_head')\n",
    "learn.load('fit_head')"
   ]
  },
  {
   "cell_type": "code",
   "execution_count": 12,
   "metadata": {},
   "outputs": [
    {
     "data": {
      "text/html": [
       "Total time: 09:54 <p><table border=\"1\" class=\"dataframe\">\n",
       "  <thead>\n",
       "    <tr style=\"text-align: left;\">\n",
       "      <th>epoch</th>\n",
       "      <th>train_loss</th>\n",
       "      <th>valid_loss</th>\n",
       "      <th>accuracy</th>\n",
       "      <th>time</th>\n",
       "    </tr>\n",
       "  </thead>\n",
       "  <tbody>\n",
       "    <tr>\n",
       "      <td>0</td>\n",
       "      <td>3.376002</td>\n",
       "      <td>3.337966</td>\n",
       "      <td>0.360892</td>\n",
       "      <td>00:59</td>\n",
       "    </tr>\n",
       "    <tr>\n",
       "      <td>1</td>\n",
       "      <td>3.218935</td>\n",
       "      <td>3.198084</td>\n",
       "      <td>0.380810</td>\n",
       "      <td>00:58</td>\n",
       "    </tr>\n",
       "    <tr>\n",
       "      <td>2</td>\n",
       "      <td>3.088321</td>\n",
       "      <td>3.087903</td>\n",
       "      <td>0.397807</td>\n",
       "      <td>00:58</td>\n",
       "    </tr>\n",
       "    <tr>\n",
       "      <td>3</td>\n",
       "      <td>2.900379</td>\n",
       "      <td>3.020042</td>\n",
       "      <td>0.408955</td>\n",
       "      <td>01:00</td>\n",
       "    </tr>\n",
       "    <tr>\n",
       "      <td>4</td>\n",
       "      <td>2.775925</td>\n",
       "      <td>2.984735</td>\n",
       "      <td>0.416367</td>\n",
       "      <td>00:59</td>\n",
       "    </tr>\n",
       "    <tr>\n",
       "      <td>5</td>\n",
       "      <td>2.651721</td>\n",
       "      <td>2.965952</td>\n",
       "      <td>0.419984</td>\n",
       "      <td>00:59</td>\n",
       "    </tr>\n",
       "    <tr>\n",
       "      <td>6</td>\n",
       "      <td>2.546253</td>\n",
       "      <td>2.963663</td>\n",
       "      <td>0.422052</td>\n",
       "      <td>01:00</td>\n",
       "    </tr>\n",
       "    <tr>\n",
       "      <td>7</td>\n",
       "      <td>2.471917</td>\n",
       "      <td>2.963549</td>\n",
       "      <td>0.422827</td>\n",
       "      <td>00:59</td>\n",
       "    </tr>\n",
       "    <tr>\n",
       "      <td>8</td>\n",
       "      <td>2.399469</td>\n",
       "      <td>2.967543</td>\n",
       "      <td>0.423779</td>\n",
       "      <td>00:59</td>\n",
       "    </tr>\n",
       "    <tr>\n",
       "      <td>9</td>\n",
       "      <td>2.376323</td>\n",
       "      <td>2.971359</td>\n",
       "      <td>0.423615</td>\n",
       "      <td>01:00</td>\n",
       "    </tr>\n",
       "  </tbody>\n",
       "</table>"
      ],
      "text/plain": [
       "<IPython.core.display.HTML object>"
      ]
     },
     "metadata": {},
     "output_type": "display_data"
    }
   ],
   "source": [
    "learn.unfreeze()\n",
    "learn.fit_one_cycle(10, 1e-3, moms=(0.8,0.7))"
   ]
  },
  {
   "cell_type": "markdown",
   "metadata": {},
   "source": [
    "Here the most important part is save_encoder.  We are saving the part of the language model responsible to encode this sentence into a tensor of information.  We are going to using this fine-tuned encoder in some other part of the neural network."
   ]
  },
  {
   "cell_type": "code",
   "execution_count": 13,
   "metadata": {},
   "outputs": [],
   "source": [
    "learn.save('fine_tuned')\n",
    "learn.save_encoder('fine_tuned_enc')"
   ]
  },
  {
   "cell_type": "code",
   "execution_count": null,
   "metadata": {},
   "outputs": [],
   "source": []
  }
 ],
 "metadata": {
  "kernelspec": {
   "display_name": "Python 3",
   "language": "python",
   "name": "python3"
  },
  "language_info": {
   "codemirror_mode": {
    "name": "ipython",
    "version": 3
   },
   "file_extension": ".py",
   "mimetype": "text/x-python",
   "name": "python",
   "nbconvert_exporter": "python",
   "pygments_lexer": "ipython3",
   "version": "3.7.1"
  }
 },
 "nbformat": 4,
 "nbformat_minor": 2
}
